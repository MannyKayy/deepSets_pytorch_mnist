{
 "cells": [
  {
   "cell_type": "code",
   "execution_count": 1,
   "metadata": {
    "collapsed": true
   },
   "outputs": [],
   "source": [
    "import torch\n",
    "import numpy as np\n",
    "from torch import nn\n",
    "import torch.nn.functional as F\n",
    "from torch import optim\n",
    "from torchvision import datasets, transforms\n",
    "from torch.autograd import Variable\n",
    "import matplotlib.pyplot as plt\n",
    "%matplotlib inline"
   ]
  },
  {
   "cell_type": "markdown",
   "metadata": {},
   "source": [
    "# Data Generator Digit sets and MNIST sets"
   ]
  },
  {
   "cell_type": "code",
   "execution_count": 2,
   "metadata": {
    "collapsed": true
   },
   "outputs": [],
   "source": [
    "# Data Generator for digit and MNIST\n",
    "# The digits are generated as batch of sets\n",
    "# The MNIST are generated set by set\n",
    "class SetsGenerator(object):\n",
    "    \n",
    "    def __init__(self, batch_size = 32, set_size=10, cuda=False):\n",
    "        \"\"\"\n",
    "        :param batch_size: int, (default=32) Number of elements for each batch (useful only for digits)\n",
    "        :param set_size: int (default=10) Number of elements by sets\n",
    "        :param cuda: boolean default=False), enable GPU usage\n",
    "        \"\"\"\n",
    "        self.batch_size = batch_size\n",
    "        self.set_size = set_size\n",
    "        self.cuda = cuda\n",
    "\n",
    "    def generate_digit(self, inversion_digit_value=None):\n",
    "        \"\"\"\n",
    "        Generator function that creates a batch of sets of digits. The function allows us to change the true\n",
    "        value of two digit with the parameter inversion_digit_value.\n",
    "        :param inversion_digit_value: Dictionary, the value of the digit for the key and for the value are switched\n",
    "        :return:\n",
    "        \"\"\"\n",
    "        while 1:\n",
    "            X = np.random.randint(10, size=(self.set_size*self.batch_size))\n",
    "            # Arrangement of the data into the set's format (batch_size, set_size, digit_size)\n",
    "            X = np.reshape(X, (self.batch_size, self.set_size, 1))\n",
    "            # inversion of the key and value in inversion_digit_value\n",
    "            for key, value in inversion_digit_value.iteritems():\n",
    "                X_tmp = np.apply_along_axis(lambda x: np.where(x == [key], [-1], x), 1, X)\n",
    "                X_tmp = np.apply_along_axis(lambda x: np.where(x == [value], [key], x), 1, X_tmp)\n",
    "                X_tmp = np.apply_along_axis(lambda x: np.where(x == [-1], [value], x), 1, X_tmp)\n",
    "            # Compute the label\n",
    "            y = np.sum(X_tmp,axis=1)\n",
    "            y = np.reshape(y,(self.batch_size,1,1))\n",
    "            if(self.cuda):\n",
    "                yield Variable(torch.Tensor(X)).cuda(), Variable(torch.Tensor(y), requires_grad=False).cuda()\n",
    "            else:\n",
    "                yield Variable(torch.Tensor(X)), Variable(torch.Tensor(y), requires_grad=False)\n",
    "                \n",
    "    def generate_mnist(self):\n",
    "        \"\"\"\n",
    "        Generator function that creates a sets of MNIST.\n",
    "        :return:\n",
    "        \"\"\"\n",
    "        # We first create a mnist loader that load a set of mnist\n",
    "        kwargs = {'num_workers': 1, 'pin_memory': True}\n",
    "        mnist_loader = torch.utils.data.DataLoader(\n",
    "            datasets.MNIST('./data', train=True, download=True,\n",
    "                           transform=transforms.Compose([\n",
    "                               transforms.ToTensor(),\n",
    "                               transforms.Normalize((0.1307,), (0.3081,))\n",
    "                           ])),\n",
    "            batch_size=self.set_size, shuffle=True, **kwargs)\n",
    "        mnist_loader_iter = iter(mnist_loader)\n",
    "        cpt = 0\n",
    "        while 1:\n",
    "            # If the iterator is finished we reload it\n",
    "            if(cpt != 0 and len(mnist_loader) % cpt == 0):\n",
    "                mnist_loader_iter = iter(mnist_loader)\n",
    "                cpt = 0\n",
    "            x, y_ = mnist_loader_iter.next()\n",
    "            y_ = torch.Tensor(np.reshape(y_.sum(), (1, 1)))\n",
    "            cpt += 1\n",
    "            if(self.cuda):\n",
    "                yield Variable(x).cuda(), Variable(y_).cuda().float()\n",
    "            else:\n",
    "                yield Variable(x), Variable(y_).float()\n"
   ]
  },
  {
   "cell_type": "markdown",
   "metadata": {},
   "source": [
    "# DeepSets on digits"
   ]
  },
  {
   "cell_type": "code",
   "execution_count": 3,
   "metadata": {
    "collapsed": true
   },
   "outputs": [],
   "source": [
    "class Digit_DeepSets(nn.Module):\n",
    "    def __init__(self):\n",
    "        super(Digit_DeepSets, self).__init__()\n",
    "        self.affine1 = nn.Linear(1, 32)\n",
    "        self.affine2 = nn.Linear(32, 16)\n",
    "        self.affine3 = nn.Linear(16, 1)\n",
    "        \n",
    "    def forward(self, x):\n",
    "        # phi network\n",
    "        x = F.relu(self.affine1(x))\n",
    "        \n",
    "        # Summing phi representation\n",
    "        x = x.sum(1)\n",
    "        \n",
    "        # rho network\n",
    "        x = F.relu(self.affine2(x))\n",
    "        x = F.relu(self.affine3(x))\n",
    "        return x"
   ]
  },
  {
   "cell_type": "code",
   "execution_count": 4,
   "metadata": {},
   "outputs": [
    {
     "name": "stdout",
     "output_type": "stream",
     "text": [
      "Train Epoch: 3000, loss: 26.3358208993\n",
      "Train Epoch: 6000, loss: 5.90086735141\n",
      "Train Epoch: 9000, loss: 3.09942540359\n",
      "Train Epoch: 12000, loss: 1.92480727388\n",
      "Train Epoch: 15000, loss: 1.72073998561\n",
      "Train Epoch: 18000, loss: 1.71176043516\n",
      "Train Epoch: 21000, loss: 1.69333653659\n",
      "Train Epoch: 24000, loss: 1.43898707044\n",
      "Train Epoch: 27000, loss: 0.81894809482\n",
      "Train Epoch: 30000, loss: 0.222358256318\n"
     ]
    }
   ],
   "source": [
    "batch_size = 32\n",
    "cuda = True\n",
    "n_iter_train = 30001\n",
    "learning_rate = 0.2\n",
    "n_compute_loss = n_iter_train/10\n",
    "inversion_digit_value = {3:5,9:1,0:4}\n",
    "\n",
    "gen = SetsGenerator(batch_size = batch_size, cuda=cuda)\n",
    "\n",
    "if(cuda):\n",
    "    deepsets = Digit_DeepSets().cuda()\n",
    "else:\n",
    "    deepsets = Digit_DeepSets()\n",
    "\n",
    "optimizer = optim.Adam(deepsets.parameters())\n",
    "\n",
    "l = 0\n",
    "for i, (x, y_) in enumerate(gen.generate_digit(inversion_digit_value)):\n",
    "    optimizer.zero_grad()\n",
    "    y = deepsets(x)\n",
    "    loss = F.mse_loss(y, y_)\n",
    "    loss.backward()\n",
    "    l += loss.data[0]\n",
    "    optimizer.step()\n",
    "    if i % n_compute_loss == 0 and i != 0:\n",
    "        print 'Train Epoch: %s, loss: %s'%(i, l*1./n_compute_loss)\n",
    "        l = 0\n",
    "    if i > n_iter_train:\n",
    "        break"
   ]
  },
  {
   "cell_type": "code",
   "execution_count": 5,
   "metadata": {},
   "outputs": [
    {
     "name": "stdout",
     "output_type": "stream",
     "text": [
      "Don't forget that we switched numbers\n",
      "\n",
      "The set of digits is : [8. 0. 1. 5. 3. 9. 4. 1. 5. 9.]\n",
      "Real sum value of x : 43.0\n",
      "\n",
      "Value computed by the network : 43.489307\n",
      "\n"
     ]
    }
   ],
   "source": [
    "# TEST\n",
    "x, y_ = gen.generate_digit(inversion_digit_value).next()\n",
    "\n",
    "print \"Don't forget that we switched numbers\\n\"\n",
    "print \"The set of digits is : %s\"%np.array(x[0].data).reshape((1, x[0].data.shape[0]))[0]\n",
    "print \"Real sum value of x : %s\\n\"%np.array(y_[0].data)[0][0]\n",
    "\n",
    "# Compute the sum with the deepSets neural network\n",
    "y = deepsets(x[0].view(1, x[0].shape[0], x[0].shape[1]))\n",
    "print \"Value computed by the network : %s\\n\"%np.array(y.data[0])[0]"
   ]
  },
  {
   "cell_type": "markdown",
   "metadata": {},
   "source": [
    "# DeepSets PyTorch MNIST"
   ]
  },
  {
   "cell_type": "code",
   "execution_count": 6,
   "metadata": {
    "collapsed": true
   },
   "outputs": [],
   "source": [
    "class MNIST_DeepSets(nn.Module):\n",
    "    def __init__(self):\n",
    "        super(MNIST_DeepSets, self).__init__()\n",
    "        self.conv1 = nn.Conv2d(1, 32, kernel_size=5, padding=2)\n",
    "        self.conv2 = nn.Conv2d(32, 64, kernel_size=5, padding=2)\n",
    "        self.fc1 = nn.Linear(7 * 7 * 64, 1024)\n",
    "        self.fc1_drop = nn.Dropout(0.4)\n",
    "        self.fc2 = nn.Linear(1024, 10)\n",
    "        self.fc3 = nn.Linear(10, 1)\n",
    "\n",
    "    def forward(self, x):\n",
    "        # phi network\n",
    "        x = F.relu(F.max_pool2d(self.conv1(x), 2))\n",
    "        x = F.relu(F.max_pool2d(self.conv2(x), 2))\n",
    "        x = x.view(-1, 7 * 7 * 64)\n",
    "        x = F.relu(self.fc1(x))\n",
    "        x = self.fc1_drop(x)\n",
    "        \n",
    "        # Summing phi representation\n",
    "        x = x.sum(0)\n",
    "        \n",
    "        # rho network\n",
    "        x = self.fc2(x)\n",
    "        x = F.relu(self.fc3(x))\n",
    "        return x"
   ]
  },
  {
   "cell_type": "code",
   "execution_count": 7,
   "metadata": {},
   "outputs": [
    {
     "name": "stdout",
     "output_type": "stream",
     "text": [
      "Train Epoch: 10000, loss: 38.8404208227\n",
      "Train Epoch: 20000, loss: 18.6958636549\n",
      "Train Epoch: 30000, loss: 15.0893136646\n",
      "Train Epoch: 40000, loss: 13.5109357536\n",
      "Train Epoch: 50000, loss: 12.5172233414\n",
      "Train Epoch: 60000, loss: 11.8547779324\n",
      "Train Epoch: 70000, loss: 10.9413386718\n",
      "Train Epoch: 80000, loss: 10.110161977\n",
      "Train Epoch: 90000, loss: 9.78051008076\n",
      "Train Epoch: 100000, loss: 9.45023237608\n"
     ]
    }
   ],
   "source": [
    "set_size = 10\n",
    "cuda = True\n",
    "n_iter_train = 100001\n",
    "learning_rate = 0.2\n",
    "n_compute_loss = n_iter_train/10\n",
    "\n",
    "gen = SetsGenerator(cuda=cuda, set_size=set_size)\n",
    "if(cuda):\n",
    "    deepsets = MNIST_DeepSets().cuda()\n",
    "else:\n",
    "    deepsets = MNIST_DeepSets()\n",
    "\n",
    "optimizer = optim.Adam(deepsets.parameters())\n",
    "\n",
    "l = 0\n",
    "for i, (x, y_) in enumerate(gen.generate_mnist()):\n",
    "    optimizer.zero_grad()\n",
    "    y = deepsets(x)\n",
    "    loss = F.mse_loss(y, y_)\n",
    "    loss.backward()\n",
    "    l += loss.data[0]\n",
    "    optimizer.step()\n",
    "    if i % n_compute_loss == 0 and i != 0:\n",
    "        print 'Train Epoch: %s, loss: %s'%(i, l*1./n_compute_loss)\n",
    "        l = 0\n",
    "    if i > n_iter_train:\n",
    "        break\n"
   ]
  },
  {
   "cell_type": "code",
   "execution_count": 9,
   "metadata": {},
   "outputs": [
    {
     "name": "stdout",
     "output_type": "stream",
     "text": [
      "The set of mnist is :\n"
     ]
    },
    {
     "data": {
      "image/png": "[encoded data removed]",
      "text/plain": [
       "<matplotlib.figure.Figure at 0x7f0e7fabe650>"
      ]
     },
     "metadata": {},
     "output_type": "display_data"
    },
    {
     "name": "stdout",
     "output_type": "stream",
     "text": [
      "Real sum value of x : 31.0\n",
      "\n",
      "Value computed by the network : 32.95348358154297\n",
      "\n"
     ]
    }
   ],
   "source": [
    "# TEST\n",
    "x, y_ = gen.generate_mnist().next()\n",
    "\n",
    "print \"The set of mnist is :\"\n",
    "for i, im in enumerate(x):\n",
    "    plt.subplot(2, 5, i+1)\n",
    "    plt.imshow(np.reshape(np.array(im.data), (28,28)))\n",
    "plt.show()\n",
    "print \"Real sum value of x : %s\\n\"%np.array(y_[0].data)[0]\n",
    "\n",
    "# Compute the sum with the deepSets neural network\n",
    "y = deepsets(x)\n",
    "print \"Value computed by the network : %s\\n\"%np.array(y.data[0])"
   ]
  },
  {
   "cell_type": "code",
   "execution_count": null,
   "metadata": {
    "collapsed": true
   },
   "outputs": [],
   "source": []
  }
 ],
 "metadata": {
  "kernelspec": {
   "display_name": "Python 2",
   "language": "python",
   "name": "python2"
  },
  "language_info": {
   "codemirror_mode": {
    "name": "ipython",
    "version": 2
   },
   "file_extension": ".py",
   "mimetype": "text/x-python",
   "name": "python",
   "nbconvert_exporter": "python",
   "pygments_lexer": "ipython2",
   "version": "2.7.14"
  }
 },
 "nbformat": 4,
 "nbformat_minor": 2
}
